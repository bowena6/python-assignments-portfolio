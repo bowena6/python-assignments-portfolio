{
  "metadata": {
    "kernelspec": {
      "name": "python",
      "display_name": "Python (Pyodide)",
      "language": "python"
    },
    "language_info": {
      "codemirror_mode": {
        "name": "python",
        "version": 3
      },
      "file_extension": ".py",
      "mimetype": "text/x-python",
      "name": "python",
      "nbconvert_exporter": "python",
      "pygments_lexer": "ipython3",
      "version": "3.8"
    }
  },
  "nbformat_minor": 5,
  "nbformat": 4,
  "cells": [
    {
      "id": "93df0422-7d5e-4270-bb2e-e4cb373d2054",
      "cell_type": "code",
      "source": "import sympy as sp\nimport numpy as np\nimport matplotlib.pyplot as plt\n\n# (a) Partial derivatives of f(x,y) = e^x*sin(y) + y^3\nx, y = sp.symbols('x y')\nf = sp.exp(x)*sp.sin(y) + y**3\ndf_dx = sp.diff(f, x)\ndf_dy = sp.diff(f, y)\nprint(\"(a) Partial derivatives:\")\nprint(\"∂f/∂x =\", df_dx)\nprint(\"∂f/∂y =\", df_dy)\nprint()\n\n# (b) Gradient vector and magnitude for g(x,y) = x^2*y + x*y^2\ng = x**2*y + x*y**2\ngradient = [sp.diff(g, x), sp.diff(g, y)]\nmagnitude = sp.sqrt(gradient[0]**2 + gradient[1]**2)\nmagnitude_at_point = magnitude.subs({x: 1, y: -1})\nprint(\"(b) Gradient and magnitude:\")\nprint(\"∇g =\", gradient)\nprint(\"|∇g(1,-1)| =\", magnitude_at_point)\nprint()\n\n# (c) Second partial derivatives of h(x,y) = ln(x^2 + y^2)\nh = sp.log(x**2 + y**2)\nd2h_dx2 = sp.diff(h, x, x)\nd2h_dy2 = sp.diff(h, y, y)\nd2h_dxdy = sp.diff(h, x, y)\nd2h_dydx = sp.diff(h, y, x)\nprint(\"(c) Second partial derivatives:\")\nprint(\"d²h/∂x² =\", d2h_dx2)\nprint(\"∂²h/∂y² =\", d2h_dy2)\nprint(\"∂²h/∂x∂y =\", d2h_dxdy)\nprint(\"∂²h/∂y∂x =\", d2h_dydx)\nprint(\"Note the symmetry of mixed partial derivatives:\", d2h_dxdy == d2h_dydx)\nprint()\n\n# (d) Contour plot of j(x,y) = x^3 - 3xy + y^3\nj = x**3 - 3*x*y + y**3\nj_func = sp.lambdify((x, y), j, 'numpy')\nx_vals = np.linspace(-3, 3, 400)\ny_vals = np.linspace(-3, 3, 400)\nX, Y = np.meshgrid(x_vals, y_vals)\nZ = j_func(X, Y)\n\nplt.figure()\nplt.contourf(X, Y, Z, levels=50, cmap='viridis')\nplt.colorbar()\nplt.title('Contour plot of $j(x, y) = x^3 - 3xy + y^3$')\nplt.xlabel('$x$')\nplt.ylabel('$y$')\nplt.show()\n\n# (e) Contour plot of f(x,y) = x^2 - y^2 (my choice)\nf_choice = x**2 - y**2\nf_func = sp.lambdify((x, y), f_choice, 'numpy')\nZ_choice = f_func(X, Y)\n\nplt.figure()\nplt.contourf(X, Y, Z_choice, levels=50, cmap='viridis')\nplt.colorbar()\nplt.title('Contour plot of $f(x, y) = x^2 - y^2$')\nplt.xlabel('$x$')\nplt.ylabel('$y$')\nplt.show()",
      "metadata": {
        "trusted": true
      },
      "outputs": [],
      "execution_count": null
    }
  ]
}